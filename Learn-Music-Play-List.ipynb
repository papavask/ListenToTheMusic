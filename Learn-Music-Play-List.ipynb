{
 "cells": [
  {
   "cell_type": "code",
   "execution_count": 1,
   "id": "d26acb9a-51af-42be-b5bb-b52cad558a26",
   "metadata": {},
   "outputs": [],
   "source": [
    "import json\n",
    "import requests\n",
    "import datetime;\n",
    "import warnings\n",
    "warnings.filterwarnings(\"ignore\")\n",
    "import asyncio\n",
    "from shazamio import Shazam\n",
    "from audio_extract import extract_audio\n",
    "\n",
    "\n"
   ]
  },
  {
   "cell_type": "code",
   "execution_count": 2,
   "id": "82770dfa-620e-42f9-8c45-787f394d8dd0",
   "metadata": {},
   "outputs": [],
   "source": [
    "class Song_Info:\n",
    "    def __init__(self, title, artist):\n",
    "        self.title = title\n",
    "        self.artist = artist\n",
    "        self.cur_tm = datetime.datetime.now().strftime('%Y-%m-%d %H:%M:%S')\n",
    "\n",
    "def song_to_dict(song_info):\n",
    "    return {\n",
    "        'timestamp': song_info.cur_tm,\n",
    "        'title': song_info.title,\n",
    "        'artist': song_info.artist\n",
    "    }"
   ]
  },
  {
   "cell_type": "code",
   "execution_count": 3,
   "id": "1dea2dab-c725-4697-b32a-0f63a30eaeb5",
   "metadata": {},
   "outputs": [],
   "source": [
    "def cnv_audio(in_file, out_file):\n",
    "    print(in_file, out_file)\n",
    "    extract_audio(input_path=in_file,\n",
    "                  output_path=out_file,\n",
    "                  overwrite=True)   "
   ]
  },
  {
   "cell_type": "code",
   "execution_count": 4,
   "id": "1dd236d4-89d1-4225-a054-d051e9c2ea65",
   "metadata": {},
   "outputs": [],
   "source": [
    "def read_sample(buffer_file):\n",
    "    stream_url = 'https://az10.yesstreaming.net/radio/8060/radio.mp3'\n",
    "    i = 1\n",
    "    with requests.get(stream_url, stream=True, timeout=5.0) as response:\n",
    "        with open(buffer_file, 'wb') as sample_file:\n",
    "            for chunk in response.iter_content(chunk_size=10000):\n",
    "                if  i > 300:\n",
    "                    break\n",
    "                sample_file.write(chunk)\n",
    "                i+=1"
   ]
  },
  {
   "cell_type": "code",
   "execution_count": 5,
   "id": "fe6fd9cd-18a5-4a2e-a7aa-a94129dd374e",
   "metadata": {},
   "outputs": [],
   "source": [
    "async def shazam_it(music_file):\n",
    "    shazam = Shazam()\n",
    "    out = await shazam.recognize(music_file)\n",
    "    return out"
   ]
  },
  {
   "cell_type": "code",
   "execution_count": 6,
   "id": "3422c3a3-8681-4a1f-a7da-5c400a87e1b6",
   "metadata": {},
   "outputs": [],
   "source": [
    "def add_it_to_db(db_name, a_song):\n",
    "    with open(db_name, 'a') as db_file:\n",
    "        json.dump(a_song, db_file, default=song_to_dict)\n",
    "        db_file.write('\\n')"
   ]
  },
  {
   "cell_type": "code",
   "execution_count": 7,
   "id": "b1090211-8f32-4307-9337-ac6c70981a68",
   "metadata": {},
   "outputs": [],
   "source": [
    "async def start_listen():\n",
    "    file_for_buffer = r\".\\buffer.aac\"\n",
    "    file_for_mp3 = r\".\\buffer.mp3\"\n",
    "    station = \"RockFM1.json\"\n",
    "    prev_song = \"\"\n",
    "    prev_artist = \"\"\n",
    "    while True:\n",
    "        read_sample(file_for_buffer)\n",
    "        cnv_audio(file_for_buffer, file_for_mp3)\n",
    "        shazam_chars = await shazam_it(file_for_mp3)\n",
    "        if len(shazam_chars[\"matches\"]) != 0:\n",
    "            sample_song = shazam_chars['track']['title']\n",
    "            sample_artist = shazam_chars['track']['subtitle']\n",
    "            song = Song_Info(sample_song, sample_artist)\n",
    "            if prev_song != sample_song:\n",
    "                add_it_to_db(station, song)\n",
    "                print('Added ' + song.title, song.artist)\n",
    "                prev_song = sample_song     "
   ]
  },
  {
   "cell_type": "code",
   "execution_count": null,
   "id": "c921e5f3-3ade-411a-98d5-cfa341f04259",
   "metadata": {},
   "outputs": [
    {
     "name": "stdout",
     "output_type": "stream",
     "text": [
      ".\\buffer.aac .\\buffer.mp3\n",
      "Success : audio file has been saved to \"/Users/kostas/Documents/Python/Music01/.\\buffer.mp3\".\n",
      "Added Everything's Coming Up Roses BLACK\n",
      ".\\buffer.aac .\\buffer.mp3\n",
      "Success : audio file has been saved to \"/Users/kostas/Documents/Python/Music01/.\\buffer.mp3\".\n"
     ]
    }
   ],
   "source": [
    "await start_listen()"
   ]
  },
  {
   "cell_type": "code",
   "execution_count": null,
   "id": "90adcd34-8a5b-4914-b2bd-195709acfe3d",
   "metadata": {},
   "outputs": [],
   "source": []
  }
 ],
 "metadata": {
  "kernelspec": {
   "display_name": "Python 3 (ipykernel)",
   "language": "python",
   "name": "python3"
  },
  "language_info": {
   "codemirror_mode": {
    "name": "ipython",
    "version": 3
   },
   "file_extension": ".py",
   "mimetype": "text/x-python",
   "name": "python",
   "nbconvert_exporter": "python",
   "pygments_lexer": "ipython3",
   "version": "3.10.8"
  }
 },
 "nbformat": 4,
 "nbformat_minor": 5
}
