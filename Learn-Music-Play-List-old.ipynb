{
 "cells": [
  {
   "cell_type": "code",
   "execution_count": null,
   "id": "d26acb9a-51af-42be-b5bb-b52cad558a26",
   "metadata": {},
   "outputs": [],
   "source": [
    "import json\n",
    "import keyboard\n",
    "import requests\n",
    "import warnings\n",
    "import asyncio\n",
    "from shazamio import Shazam\n",
    "from audio_extract import extract_audio\n",
    "\n",
    "warnings.filterwarnings(\"ignore\")\n"
   ]
  },
  {
   "cell_type": "code",
   "execution_count": null,
   "id": "82770dfa-620e-42f9-8c45-787f394d8dd0",
   "metadata": {},
   "outputs": [],
   "source": [
    "class Song_Info:\n",
    "    def __init__(self, title, artist):\n",
    "        self.title = title\n",
    "        self.artist = artist\n",
    "\n",
    "def song_to_dict(song_info):\n",
    "    return {\n",
    "        'song': song_info.title,\n",
    "        'artist': song_info.artist\n",
    "    }"
   ]
  },
  {
   "cell_type": "code",
   "execution_count": null,
   "id": "1dea2dab-c725-4697-b32a-0f63a30eaeb5",
   "metadata": {},
   "outputs": [],
   "source": [
    "def cnv_audio(in_file, out_file):\n",
    "    print(in_file, out_file)\n",
    "    extract_audio(input_path=in_file,\n",
    "                  output_path=out_file,\n",
    "                  overwrite=True)   "
   ]
  },
  {
   "cell_type": "code",
   "execution_count": null,
   "id": "1dd236d4-89d1-4225-a054-d051e9c2ea65",
   "metadata": {},
   "outputs": [],
   "source": [
    "def read_sample(buffer_file):\n",
    "    stream_url = 'https://az10.yesstreaming.net/radio/8060/radio.mp3'\n",
    "    i = 1\n",
    "    with requests.get(stream_url, stream=True, timeout=5.0) as response:\n",
    "        with open(buffer_file, 'wb') as sample_file:\n",
    "            for chunk in response.iter_content(chunk_size=10000):\n",
    "                if  i > 300:\n",
    "                    break\n",
    "                sample_file.write(chunk)\n",
    "                i+=1"
   ]
  },
  {
   "cell_type": "code",
   "execution_count": null,
   "id": "fe6fd9cd-18a5-4a2e-a7aa-a94129dd374e",
   "metadata": {},
   "outputs": [],
   "source": [
    "async def shazam_it(music_file):\n",
    "    shazam = Shazam()\n",
    "    out = await shazam.recognize(music_file)\n",
    "    return out"
   ]
  },
  {
   "cell_type": "code",
   "execution_count": null,
   "id": "2fafdd59-2a23-4523-b215-3ac920975d94",
   "metadata": {},
   "outputs": [],
   "source": [
    "def add_it_to_db_old(db_name, a_song, an_artist):\n",
    "    info_dict ={}\n",
    "    info_dict[\"song\"] = a_song\n",
    "    info_dict[\"artist\"] = an_artist\n",
    "    json_info = json.dumps(info_dict)\n",
    "    with open(db_name, 'a') as db_file:\n",
    "        json.dump(json_info, db_file, indent=3) "
   ]
  },
  {
   "cell_type": "code",
   "execution_count": null,
   "id": "3422c3a3-8681-4a1f-a7da-5c400a87e1b6",
   "metadata": {},
   "outputs": [],
   "source": [
    "def add_it_to_db(db_name, a_song):\n",
    "    with open(db_name, 'a') as db_file:\n",
    "        json.dump(a_song, db_file, default=song_to_dict)\n",
    "        db_file.write('\\n')"
   ]
  },
  {
   "cell_type": "code",
   "execution_count": null,
   "id": "b1090211-8f32-4307-9337-ac6c70981a68",
   "metadata": {},
   "outputs": [],
   "source": [
    "async def start_spy():\n",
    "    file_for_buffer = r\".\\buffer.aac\"\n",
    "    file_for_mp3 = r\".\\buffer.mp3\"\n",
    "    station = \"RockFM.json\"\n",
    "    prev_song = \"\"\n",
    "    prev_artist = \"\"\n",
    "    while True:\n",
    "        read_sample(file_for_buffer)\n",
    "        cnv_audio(file_for_buffer, file_for_mp3)\n",
    "        shazam_chars =  await shazam_it(file_for_mp3)\n",
    "        if len(shazam_chars[\"matches\"]) != 0:\n",
    "            sample_song = shazam_chars['track']['title']\n",
    "            sample_artist = shazam_chars['track']['subtitle']\n",
    "            song = Song_Info(sample_song, sample_artist)\n",
    "            if prev_song != sample_song:\n",
    "                add_it_to_db(station, song)\n",
    "                print('Added ' + song.title, song.artist)\n",
    "                prev_song = sample_song\n",
    "            if keyboard.is_pressed(\"q\"):\n",
    "                break      "
   ]
  },
  {
   "cell_type": "code",
   "execution_count": null,
   "id": "943ac464-c30c-43d9-a0e1-7f364e934206",
   "metadata": {},
   "outputs": [],
   "source": [
    "file_for_buffer = r\".\\buffer.acc\"\n",
    "file_for_mp3 = r\".\\mp3_file.mp3\"\n",
    "#cnv_audio(file_for_buffer, file_for_mp3)\n",
    "print(file_for_buffer, file_for_mp3)\n"
   ]
  },
  {
   "cell_type": "code",
   "execution_count": null,
   "id": "c921e5f3-3ade-411a-98d5-cfa341f04259",
   "metadata": {},
   "outputs": [],
   "source": [
    "await start_spy()"
   ]
  },
  {
   "cell_type": "code",
   "execution_count": null,
   "id": "7732d65b-3da7-41b2-bd54-82bf349794f9",
   "metadata": {},
   "outputs": [],
   "source": [
    "SUPPORTED_FFMPEG_FORMATS"
   ]
  },
  {
   "cell_type": "code",
   "execution_count": null,
   "id": "a1be3a50-b7e5-4408-aab7-8f952c334559",
   "metadata": {},
   "outputs": [],
   "source": [
    "shazam_chars = shazam_it(r\".\\buffer.mp3\")"
   ]
  },
  {
   "cell_type": "code",
   "execution_count": null,
   "id": "277257a7-493a-4455-b87f-a6c09b1852af",
   "metadata": {},
   "outputs": [],
   "source": [
    "shazam_chars =  await shazam_it(r\".\\buffer.mp3\")"
   ]
  },
  {
   "cell_type": "code",
   "execution_count": null,
   "id": "1791dea6-b75f-4579-8d3a-944dd234ffad",
   "metadata": {},
   "outputs": [],
   "source": [
    "print(shazam_chars)"
   ]
  },
  {
   "cell_type": "code",
   "execution_count": null,
   "id": "5bbb0c68-95ae-41cb-ab61-81cca6a45759",
   "metadata": {},
   "outputs": [],
   "source": [
    "print(len(shazam_chars[\"matches\"]))"
   ]
  },
  {
   "cell_type": "code",
   "execution_count": null,
   "id": "ff0810a9-9c03-4310-84aa-854a91c73554",
   "metadata": {},
   "outputs": [],
   "source": [
    "loop.run_until_complete(shazam_it)"
   ]
  },
  {
   "cell_type": "code",
   "execution_count": null,
   "id": "813f6815-e4d2-4419-9471-20681c232baf",
   "metadata": {},
   "outputs": [],
   "source": [
    "import sys\n",
    "print(sys.version)"
   ]
  },
  {
   "cell_type": "code",
   "execution_count": null,
   "id": "7a45c356-11de-4b67-a67a-bd161acc881b",
   "metadata": {},
   "outputs": [],
   "source": []
  }
 ],
 "metadata": {
  "kernelspec": {
   "display_name": "Python 3 (ipykernel)",
   "language": "python",
   "name": "python3"
  },
  "language_info": {
   "codemirror_mode": {
    "name": "ipython",
    "version": 3
   },
   "file_extension": ".py",
   "mimetype": "text/x-python",
   "name": "python",
   "nbconvert_exporter": "python",
   "pygments_lexer": "ipython3",
   "version": "3.10.8"
  }
 },
 "nbformat": 4,
 "nbformat_minor": 5
}
